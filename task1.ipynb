{
 "cells": [
  {
   "cell_type": "code",
   "execution_count": 1,
   "metadata": {},
   "outputs": [],
   "source": [
    "# numerical packages\n",
    "from copy import copy, deepcopy\n",
    "import numpy as np\n",
    "import scipy as sp\n",
    "from scipy.optimize import minimize\n",
    "\n",
    "# for visualization (plot and animation)\n",
    "import matplotlib.pyplot as plt\n",
    "import matplotlib.animation\n",
    "from mpl_toolkits.mplot3d import Axes3D\n",
    "\n",
    "# for drawing Bloch sphere\n",
    "from qiskit.visualization import plot_bloch_vector\n",
    "from qiskit.visualization.bloch import Bloch\n",
    "\n",
    "# my class for the task1\n",
    "from PSRWST"
   ]
  },
  {
   "cell_type": "code",
   "execution_count": null,
   "metadata": {},
   "outputs": [],
   "source": []
  }
 ],
 "metadata": {
  "kernelspec": {
   "display_name": "Python 3.7.7 64-bit ('qdauto': conda)",
   "language": "python",
   "name": "python37764bitqdautocondac0f391a754c04a9eb326fd49fe28e459"
  },
  "language_info": {
   "codemirror_mode": {
    "name": "ipython",
    "version": 3
   },
   "file_extension": ".py",
   "mimetype": "text/x-python",
   "name": "python",
   "nbconvert_exporter": "python",
   "pygments_lexer": "ipython3",
   "version": "3.7.7"
  }
 },
 "nbformat": 4,
 "nbformat_minor": 4
}
